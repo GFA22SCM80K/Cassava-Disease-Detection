{
  "nbformat": 4,
  "nbformat_minor": 0,
  "metadata": {
    "colab": {
      "provenance": []
    },
    "kernelspec": {
      "name": "python3",
      "display_name": "Python 3"
    },
    "language_info": {
      "name": "python"
    }
  },
  "cells": [
    {
      "cell_type": "code",
      "execution_count": null,
      "metadata": {
        "id": "RyqyGytsN7MP"
      },
      "outputs": [],
      "source": [
        "import matplotlib.pylab as plt\n",
        "import tensorflow as tf\n",
        "import tensorflow_hub as hub\n",
        "import os\n",
        "import numpy as np\n",
        "import tensorflow_datasets as tfds\n",
        "import warnings\n",
        "warnings.filterwarnings('ignore')"
      ]
    },
    {
      "cell_type": "code",
      "source": [
        "dataset, info = tfds.load(name='cassava', with_info=True, as_supervised=True, split=['train', 'test', 'validation'])"
      ],
      "metadata": {
        "id": "CtqhOJ50N84f"
      },
      "execution_count": null,
      "outputs": []
    },
    {
      "cell_type": "code",
      "source": [
        "train, info_train = tfds.load(name='cassava', with_info=True, split='test')\n",
        "tfds.show_examples(info_train, train)"
      ],
      "metadata": {
        "id": "W9G3Jwg2N_dS"
      },
      "execution_count": null,
      "outputs": []
    },
    {
      "cell_type": "code",
      "source": [
        "def sc(image, label):\n",
        "  image = tf.cast(image, tf.float32)\n",
        "  image /=255.0\n",
        "  return tf.image.resize(image,[224, 224]), tf.one_hot(label, 5)"
      ],
      "metadata": {
        "id": "GIOgAFQDOBx3"
      },
      "execution_count": null,
      "outputs": []
    },
    {
      "cell_type": "code",
      "source": [
        "def get_dataset(batch_size = 32):\n",
        "  train_dataset_sc = dataset[0].map(sc).shuffle(1000).batch(batch_size)\n",
        "  test_dataset_sc = dataset[1].map(sc).batch(batch_size)\n",
        "  val_dataset_sc = dataset[2].map(sc).batch(batch_size)\n",
        "  return train_dataset_sc, test_dataset_sc, val_dataset_sc"
      ],
      "metadata": {
        "id": "HrQ4xxhtOEXm"
      },
      "execution_count": null,
      "outputs": []
    },
    {
      "cell_type": "code",
      "source": [
        "train_dataset, test_dataset, val_dataset = get_dataset()\n",
        "train_dataset.cache()\n",
        "val_dataset.cache()"
      ],
      "metadata": {
        "id": "kOidgdhyOGSa"
      },
      "execution_count": null,
      "outputs": []
    },
    {
      "cell_type": "code",
      "source": [
        "f_e = \"https://tfhub.dev/google/tf2-preview/mobilenet_v2/feature_vector/4\""
      ],
      "metadata": {
        "id": "BHOiE2jwOKUG"
      },
      "execution_count": null,
      "outputs": []
    },
    {
      "cell_type": "code",
      "source": [
        "f_e_layer = hub.KerasLayer(f_e, input_shape=(224, 224, 3))"
      ],
      "metadata": {
        "id": "xQ-Ovbt1OK-m"
      },
      "execution_count": null,
      "outputs": []
    },
    {
      "cell_type": "code",
      "source": [
        "f_e_layer.trainable = False"
      ],
      "metadata": {
        "id": "A3eoFCnGONMB"
      },
      "execution_count": null,
      "outputs": []
    },
    {
      "cell_type": "code",
      "source": [
        "model = tf.keras.Sequential([\n",
        "    f_e_layer,\n",
        "    tf.keras.layers.Dropout(0.3),\n",
        "    tf.keras.layers.Dense(5, activation='softmax')\n",
        "])\n",
        "\n",
        "model.summary()"
      ],
      "metadata": {
        "id": "oF2E7jWEOP0E"
      },
      "execution_count": null,
      "outputs": []
    },
    {
      "cell_type": "code",
      "source": [
        "model.compile(\n",
        "    optimizer=tf.keras.optimizers.Adam(),\n",
        "    loss=tf.keras.losses.CategoricalCrossentropy(from_logits=True),\n",
        "    metrics=['acc']\n",
        ")"
      ],
      "metadata": {
        "id": "6fkgvtgCOR7_"
      },
      "execution_count": null,
      "outputs": []
    },
    {
      "cell_type": "code",
      "source": [
        "history = model.fit(train_dataset, epochs = 30, validation_data=val_dataset)"
      ],
      "metadata": {
        "id": "fg5NJLIoOU7B"
      },
      "execution_count": null,
      "outputs": []
    },
    {
      "cell_type": "code",
      "source": [
        "res = model.evaluate(test_dataset)"
      ],
      "metadata": {
        "id": "5NO7MaOeOYIP"
      },
      "execution_count": null,
      "outputs": []
    },
    {
      "cell_type": "code",
      "source": [
        "for t_sample in dataset[1].take(10):\n",
        "  image, label = t_sample[0], t_sample[1]\n",
        "  img_sc, label_array = sc(t_sample[0], t_sample[1])\n",
        "  img_sc = np.expand_dims(img_sc, axis = 0)\n",
        "  img = tf.keras.preprocessing.image.img_to_array(image)\n",
        "  pred = model.predict(img_sc)\n",
        "  #print(pred)\n",
        "  plt.figure()\n",
        "  plt.imshow(image)\n",
        "  plt.show()\n",
        "  print(\"Given: %s\" % info.features[\"label\"].names[label.numpy()])\n",
        "  print(\"Predicted: %s\" % info.features[\"label\"].names[np.argmax(pred)])"
      ],
      "metadata": {
        "id": "lOxenjxtOasB"
      },
      "execution_count": null,
      "outputs": []
    },
    {
      "cell_type": "code",
      "source": [
        "for f0, f1 in dataset[1].map(sc).batch(200):\n",
        "  y = np.argmax(f1, axis=1)\n",
        "  y_pred = np.argmax(model.predict(f0), axis=1)\n",
        "  print(tf.math.confusion_matrix(labels=y, predictions=y_pred, num_classes = 5))"
      ],
      "metadata": {
        "id": "6by_NuuuOcz9"
      },
      "execution_count": null,
      "outputs": []
    }
  ]
}